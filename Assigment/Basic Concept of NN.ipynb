{
 "cells": [
  {
   "cell_type": "markdown",
   "metadata": {},
   "source": [
    "# BASIC CONCEPT OF NEURAL NETWORK"
   ]
  },
  {
   "cell_type": "markdown",
   "metadata": {},
   "source": [
    "WHAT IS NEURAL NETWORK AND WHY WE USE?\n",
    "\n",
    "A neural network is a method in artificial intelligence that teaches computers to process data in a way that is inspired by the human brain.\n",
    "\n",
    "Neural networks can help computers make intelligent decisions with limited human assistance. This is because they can learn and model the relationships between input and output data that are nonlinear and complex.\n"
   ]
  },
  {
   "cell_type": "markdown",
   "metadata": {},
   "source": [
    "There are three major layers in neural network and how they work\n",
    "\n",
    "# INPUT LAYER\n",
    "It takes input signals(values) and passes them on to the next layer. It doesn't apply any operations on the input signals(values) & has no weights and biases values associated.\n",
    "\n",
    "# HIDDEN LAYER\n",
    "The hidden layers play a crucial role in the learning process, as they are responsible for capturing and representing the complex relationships within the data. The ability of neural networks to automatically learn these hidden representations is one of the key reasons for their success in various tasks, such as image recognition, natural language processing, and many other machine learning problems.\n",
    "\n",
    "# OUTPUT LAYER\n",
    "There is one output layer in a neural network that produces the desired final prediction. It has its own set of weights and biases that are applied before the final output is derived.\n"
   ]
  },
  {
   "cell_type": "markdown",
   "metadata": {},
   "source": [
    "# ACTIVATION FUNCTION\n",
    "\n",
    "An Activation Function decides whether a neuron should be activated or not. This means that it will decide whether the neuron's input to the network is important or not in the process of prediction using simpler mathematical operations.\n",
    "\n",
    "Advantage\n",
    "\n",
    "It is computationally effective as it involves simpler mathematical operations than sigmoid and tanh. Although it looks like a linear function, it adds non-linearity to the network, making it able to learn complex patterns."
   ]
  }
 ],
 "metadata": {
  "language_info": {
   "name": "python"
  },
  "orig_nbformat": 4
 },
 "nbformat": 4,
 "nbformat_minor": 2
}
