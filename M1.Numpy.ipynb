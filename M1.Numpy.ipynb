{
 "cells": [
  {
   "cell_type": "markdown",
   "metadata": {},
   "source": [
    "# Numpy"
   ]
  },
  {
   "attachments": {},
   "cell_type": "markdown",
   "metadata": {},
   "source": [
    "Program on Numpy,"
   ]
  },
  {
   "cell_type": "code",
   "execution_count": 1,
   "metadata": {},
   "outputs": [
    {
     "name": "stdout",
     "output_type": "stream",
     "text": [
      "1.25.1\n"
     ]
    }
   ],
   "source": [
    "import numpy as np\n",
    "print(np.__version__)"
   ]
  },
  {
   "attachments": {},
   "cell_type": "markdown",
   "metadata": {},
   "source": [
    "#0D Array"
   ]
  },
  {
   "cell_type": "code",
   "execution_count": 2,
   "metadata": {},
   "outputs": [
    {
     "data": {
      "text/plain": [
       "array(10)"
      ]
     },
     "execution_count": 2,
     "metadata": {},
     "output_type": "execute_result"
    }
   ],
   "source": [
    "a=np.array(10)\n",
    "a"
   ]
  },
  {
   "attachments": {},
   "cell_type": "markdown",
   "metadata": {},
   "source": [
    "#1D Array"
   ]
  },
  {
   "cell_type": "code",
   "execution_count": 3,
   "metadata": {},
   "outputs": [
    {
     "data": {
      "text/plain": [
       "array([1, 0])"
      ]
     },
     "execution_count": 3,
     "metadata": {},
     "output_type": "execute_result"
    }
   ],
   "source": [
    "a=np.array([1,0])\n",
    "a"
   ]
  },
  {
   "attachments": {},
   "cell_type": "markdown",
   "metadata": {},
   "source": [
    "#2D Array"
   ]
  },
  {
   "cell_type": "code",
   "execution_count": 4,
   "metadata": {},
   "outputs": [
    {
     "name": "stdout",
     "output_type": "stream",
     "text": [
      "[[1 0]\n",
      " [3 0]]\n"
     ]
    }
   ],
   "source": [
    "a=np.array([[1,0],[3,0]])\n",
    "print(a)"
   ]
  },
  {
   "attachments": {},
   "cell_type": "markdown",
   "metadata": {},
   "source": [
    "#3D Array"
   ]
  },
  {
   "cell_type": "code",
   "execution_count": 5,
   "metadata": {},
   "outputs": [
    {
     "name": "stdout",
     "output_type": "stream",
     "text": [
      "[[[1 0]\n",
      "  [3 0]]\n",
      "\n",
      " [[2 0]\n",
      "  [4 0]]]\n"
     ]
    }
   ],
   "source": [
    "a=np.array([[[1,0],[3,0]],[[2,0],[4,0]]])\n",
    "print(a)"
   ]
  },
  {
   "attachments": {},
   "cell_type": "markdown",
   "metadata": {},
   "source": [
    "Array's with All Dimension"
   ]
  },
  {
   "attachments": {},
   "cell_type": "markdown",
   "metadata": {},
   "source": [
    "ndmin=5"
   ]
  },
  {
   "cell_type": "code",
   "execution_count": 2,
   "metadata": {},
   "outputs": [
    {
     "name": "stdout",
     "output_type": "stream",
     "text": [
      "10\n",
      "[1 0]\n",
      "[[1 0]\n",
      " [3 0]]\n",
      "[[[1 0]\n",
      "  [3 0]]\n",
      "\n",
      " [[2 0]\n",
      "  [4 0]]]\n"
     ]
    }
   ],
   "source": [
    "import numpy as np\n",
    "\n",
    "print(np.array(10)) #0D\n",
    "\n",
    "print(np.array([1,0])) #1D\n",
    "\n",
    "print(np.array([[1,0],[3,0]])) #2D\n",
    "\n",
    "print(np.array([ [ [1,0],[3,0] ],[ [2,0],[4,0] ] ])) #3D"
   ]
  },
  {
   "cell_type": "code",
   "execution_count": 12,
   "metadata": {},
   "outputs": [
    {
     "name": "stdout",
     "output_type": "stream",
     "text": [
      "[[[[[[[[[[1 2]\n",
      "         [3 4]\n",
      "         [5 6]]]]]]]]]]\n"
     ]
    }
   ],
   "source": [
    "# specifies the minimum dimensions of resultant array.\n",
    "a=np.array([[1,2],[3,4],[5,6]],ndmin=10)\n",
    "print(a)\n"
   ]
  },
  {
   "attachments": {},
   "cell_type": "markdown",
   "metadata": {},
   "source": [
    "numpy.ndarray.ndim() function return the number of dimensions of an array."
   ]
  },
  {
   "cell_type": "code",
   "execution_count": 34,
   "metadata": {},
   "outputs": [
    {
     "name": "stdout",
     "output_type": "stream",
     "text": [
      "2\n"
     ]
    }
   ],
   "source": [
    "a=np.array([[1,2],[3,4],[5,6]])\n",
    "print(a.ndim)"
   ]
  },
  {
   "attachments": {},
   "cell_type": "markdown",
   "metadata": {},
   "source": [
    "shape( )returns a tuple with each index having the number of corresponding elements."
   ]
  },
  {
   "cell_type": "markdown",
   "metadata": {},
   "source": [
    "Array Attributes"
   ]
  },
  {
   "cell_type": "code",
   "execution_count": 5,
   "metadata": {},
   "outputs": [
    {
     "name": "stdout",
     "output_type": "stream",
     "text": [
      "2\n",
      "(2, 5)\n",
      "int32\n",
      "10\n"
     ]
    }
   ],
   "source": [
    "a=np.array([[1,2,3,4,5],[6,7,8,9,10]])\n",
    "# Get the Shape of an Array \n",
    "print(a.ndim)\n",
    "\n",
    "# Get the Shape of an Array\n",
    "print(a.shape)\n",
    "\n",
    "# Get the Datatype of an Array \n",
    "print(a.dtype)\n",
    "\n",
    "# Get the total number of an element in an array\n",
    "print(a.size)\n",
    "\n",
    " "
   ]
  },
  {
   "cell_type": "code",
   "execution_count": 9,
   "metadata": {},
   "outputs": [
    {
     "name": "stdout",
     "output_type": "stream",
     "text": [
      "3\n",
      "(2, 1, 5)\n",
      "[[[ 1  2  3  4  5]]\n",
      "\n",
      " [[ 6  7  8  9 10]]]\n"
     ]
    }
   ],
   "source": [
    "# returns an integer that tells us how many dimensions the array have.\n",
    "\n",
    "a=np.array([[[1,2,3,4,5]],[[6,7,8,9,10]]])\n",
    "\n",
    "print(a.ndim) # get the dimension of an array\n",
    "print(a.shape)\n",
    "print(a)"
   ]
  },
  {
   "attachments": {},
   "cell_type": "markdown",
   "metadata": {},
   "source": [
    "Filling array's with auto element"
   ]
  },
  {
   "cell_type": "code",
   "execution_count": 12,
   "metadata": {},
   "outputs": [
    {
     "name": "stdout",
     "output_type": "stream",
     "text": [
      "[0. 0. 0. 0.]\n",
      "[[0. 0. 0. 0. 0. 0. 0. 0. 0. 0. 0. 0.]\n",
      " [0. 0. 0. 0. 0. 0. 0. 0. 0. 0. 0. 0.]\n",
      " [0. 0. 0. 0. 0. 0. 0. 0. 0. 0. 0. 0.]\n",
      " [0. 0. 0. 0. 0. 0. 0. 0. 0. 0. 0. 0.]]\n",
      "[[1. 1. 1. 1.]\n",
      " [1. 1. 1. 1.]\n",
      " [1. 1. 1. 1.]\n",
      " [1. 1. 1. 1.]]\n",
      "[ 4  6  8 10 12 14 16 18 20 22 24 26 28 30 32 34 36 38 40 42 44 46 48 50\n",
      " 52 54 56 58 60 62 64 66 68 70 72 74 76 78 80 82 84 86 88 90 92 94 96 98]\n",
      "[10 11 12 13 14 15 16 17 18 19 20]\n"
     ]
    }
   ],
   "source": [
    "import numpy as np\n",
    "\n",
    "# returns a new array of given shape and type, where the element's value as 0.\n",
    "print(np.zeros(4))\n",
    "print(np.zeros([4,12]))  \n",
    "\n",
    "# returns a new array of given shape and data type, where the element's value is set to 1\n",
    "print(np.ones([4,4]))\n",
    "\n",
    "# one of the array creation routines based on numerical ranges\n",
    "print(np.arange(4,100,2))  \n",
    "\n",
    "# if we want upto 20 we should give 10 to 21 \n",
    "print(np.arange(10,21))\n",
    "\n"
   ]
  },
  {
   "attachments": {},
   "cell_type": "markdown",
   "metadata": {},
   "source": [
    "Sorting Array's"
   ]
  },
  {
   "cell_type": "code",
   "execution_count": 13,
   "metadata": {},
   "outputs": [
    {
     "name": "stdout",
     "output_type": "stream",
     "text": [
      "[ 1  2  3  4  5  6  7  8  9 10]\n",
      "['A' 'B' 'C' 'D' 'E']\n",
      "[[1 2 3]\n",
      " [4 5 6]]\n"
     ]
    }
   ],
   "source": [
    "import numpy as np\n",
    "\n",
    "# using sort function() in numpy to set in order\n",
    "print(np.sort((1,3,5,7,9,2,4,6,8,10))) \n",
    "\n",
    "#  sort with using string (alphabetical)\n",
    "print(np.sort((\"B\",\"E\",\"C\",\"D\",'A')))\n",
    "\n",
    "#  sorting 2D dimension \n",
    "a=np.array([[3,2,1],[6,5,4]])\n",
    "print(np.sort(a))\n",
    "\n"
   ]
  },
  {
   "attachments": {},
   "cell_type": "markdown",
   "metadata": {},
   "source": [
    "Access Array element"
   ]
  },
  {
   "cell_type": "code",
   "execution_count": 4,
   "metadata": {},
   "outputs": [
    {
     "name": "stdout",
     "output_type": "stream",
     "text": [
      "3\n",
      "2\n",
      "[ 2  3  4  5  6  7  8  9 10]\n",
      "[1 2 3 4 5 6 7 8]\n",
      "[ 9 10]\n",
      "[6 7 8]\n"
     ]
    }
   ],
   "source": [
    "import numpy as np\n",
    "\n",
    "a=np.array([1,2,3,4,5])\n",
    "print(a[2])\n",
    "\n",
    "data=np.array([1,2,3,4,5,6,7,8,9,10])\n",
    "\n",
    "print(data[1])    # picking value from index\n",
    "\n",
    "print(data[1:])   # skiping first value and printing all values from list\n",
    "\n",
    "print(data[0:8])  # printing whole list\n",
    "\n",
    "print(data[-2:])  # printing values from revers order\n",
    "\n",
    "print(data[-5:-2])\n",
    "\n"
   ]
  },
  {
   "cell_type": "code",
   "execution_count": 52,
   "metadata": {},
   "outputs": [
    {
     "name": "stdout",
     "output_type": "stream",
     "text": [
      "[[10 20 41 51 61]\n",
      " [30 40 12 45 78]]\n",
      "30\n",
      "[[[10 20 41 51 61]]\n",
      "\n",
      " [[30 40 12 45 78]]]\n",
      "30\n"
     ]
    }
   ],
   "source": [
    "# picking the paticular value from matrix by using (row,coloum) \n",
    "# 2D\n",
    "matrix=np.array([[10,20,41,51,61],[30,40,12,45,78]])\n",
    "print(matrix)\n",
    "print(matrix[1,0])\n",
    "        # (Row,Coloum)  \n",
    "\n",
    "# 3D\n",
    "matrix=np.array([[[10,20,41,51,61]],[[30,40,12,45,78]]])\n",
    "print(matrix)\n",
    "\n",
    "print(matrix[1,0,0])\n",
    "\n"
   ]
  },
  {
   "cell_type": "code",
   "execution_count": 56,
   "metadata": {},
   "outputs": [
    {
     "name": "stdout",
     "output_type": "stream",
     "text": [
      "[[[ 1  2  3]\n",
      "  [ 4  5  6]]\n",
      "\n",
      " [[ 7  8  9]\n",
      "  [10 11 12]]]\n",
      "5\n"
     ]
    }
   ],
   "source": [
    "# slicing array with 3D\n",
    "matrix=np.array([[[1,2,3],[4,5,6]],[[7,8,9,],[10,11,12]]])\n",
    "print(matrix)\n",
    "\n",
    "print(matrix[0,1,1])"
   ]
  },
  {
   "cell_type": "code",
   "execution_count": 58,
   "metadata": {},
   "outputs": [
    {
     "name": "stdout",
     "output_type": "stream",
     "text": [
      "[20 41 51]\n"
     ]
    }
   ],
   "source": [
    "# slicing with array\n",
    "\n",
    "a=np.array([[10,20,41,51,61],[30,40,12,45,78]])\n",
    "print(a[0,1:4])\n"
   ]
  },
  {
   "attachments": {},
   "cell_type": "markdown",
   "metadata": {},
   "source": [
    "where()"
   ]
  },
  {
   "cell_type": "code",
   "execution_count": 65,
   "metadata": {},
   "outputs": [
    {
     "name": "stdout",
     "output_type": "stream",
     "text": [
      "(array([2, 4, 6], dtype=int64),)\n",
      "(array([3, 7], dtype=int64),)\n"
     ]
    }
   ],
   "source": [
    "import numpy as np\n",
    "\n",
    "arr=np.array([1,2,40,15,40,18,40])\n",
    "x=np.where(arr==40)# condition to print index value where the reapeted values are present\n",
    "print(x)\n",
    "\n",
    "a=np.array([1,2,3,4,5,6,7,8])\n",
    "y=np.where(a%4==0) # condition to divisable with 4 and get remainder=0 thn print the index value (number) from list\n",
    "print(y)\n",
    "\n"
   ]
  },
  {
   "attachments": {},
   "cell_type": "markdown",
   "metadata": {},
   "source": [
    "searchsorted"
   ]
  },
  {
   "cell_type": "code",
   "execution_count": 71,
   "metadata": {},
   "outputs": [
    {
     "name": "stdout",
     "output_type": "stream",
     "text": [
      "3\n",
      "2\n",
      "4\n",
      "4\n",
      "[0 4 1 4]\n"
     ]
    }
   ],
   "source": [
    "import numpy as np\n",
    "\n",
    "a=np.array([6,7,8,19])\n",
    "x=np.searchsorted(a,9)\n",
    "print(x)\n",
    "\n",
    "print(np.searchsorted([1,2,3,4],3)) #\n",
    "\n",
    "print(np.searchsorted([1,2,3,4],5 ,side='right'))\n",
    "\n",
    "print(np.searchsorted([1,2,3,4],[-10,10,2,6]))\n"
   ]
  },
  {
   "attachments": {},
   "cell_type": "markdown",
   "metadata": {},
   "source": [
    " Array Reshaping"
   ]
  },
  {
   "cell_type": "code",
   "execution_count": 48,
   "metadata": {},
   "outputs": [
    {
     "name": "stdout",
     "output_type": "stream",
     "text": [
      "[[ 1  2  3]\n",
      " [ 4  5  6]\n",
      " [ 7  8  9]\n",
      " [10 11 12]]\n",
      "[ 1  2  3  4  5  6  7  8  9 10 11 12]\n",
      "[[ 1  4  7 10]\n",
      " [ 2  5  8 11]\n",
      " [ 3  6  9 12]]\n"
     ]
    }
   ],
   "source": [
    "import numpy as np\n",
    "a=np.array([[1,2,3],[4,5,6],[7,8,9],[10,11,12]])\n",
    "\n",
    "# Reshape Any Array\n",
    "x=a.reshape(4,3)\n",
    "print(x)\n",
    "\n",
    "# Flatten to An Array (Convert to 1D)\n",
    "Flatten=a.flatten()\n",
    "print(Flatten)\n",
    "\n",
    "# Traspose Any Array\n",
    "Transpose=a.T\n",
    "print(Transpose)"
   ]
  },
  {
   "attachments": {},
   "cell_type": "markdown",
   "metadata": {},
   "source": [
    "Filtering Array"
   ]
  },
  {
   "cell_type": "code",
   "execution_count": 3,
   "metadata": {},
   "outputs": [
    {
     "name": "stdout",
     "output_type": "stream",
     "text": [
      "[1 3]\n"
     ]
    }
   ],
   "source": [
    "import numpy as np\n",
    "\n",
    "ar=np.array([1,2,3,4])\n",
    "\n",
    "x=[True,False,True,False]\n",
    "newarr=ar[x]\n",
    "print(newarr)\n"
   ]
  },
  {
   "cell_type": "code",
   "execution_count": 4,
   "metadata": {},
   "outputs": [
    {
     "name": "stdout",
     "output_type": "stream",
     "text": [
      "[1, 3, 5, 7, 9]\n",
      "[0, 2, 4, 6, 8, 10]\n"
     ]
    }
   ],
   "source": [
    "gou=[0,1,2,3,4,5,6,7,8,9,10]\n",
    "#  filtering of odd number\n",
    "result=filter(lambda x:x%2!=0,gou)\n",
    "print(list(result))\n",
    "\n",
    "#  filtering of even number \n",
    "result=filter(lambda x:x%2==0,gou)\n",
    "print(list(result))"
   ]
  },
  {
   "attachments": {},
   "cell_type": "markdown",
   "metadata": {},
   "source": [
    "Concantenate"
   ]
  },
  {
   "cell_type": "code",
   "execution_count": 15,
   "metadata": {},
   "outputs": [
    {
     "name": "stdout",
     "output_type": "stream",
     "text": [
      "A: [[ 0  1  2]\n",
      " [ 3  4  5]\n",
      " [ 6  7  8]\n",
      " [ 9 10 11]]\n",
      "B: [[11 12 13]\n",
      " [14 15 16]\n",
      " [17 18 19]\n",
      " [20 21 22]]\n",
      "C: [[23 24 25]\n",
      " [26 27 28]\n",
      " [29 30 31]\n",
      " [32 33 34]]\n",
      "answere: [[ 0  1  2]\n",
      " [ 3  4  5]\n",
      " [ 6  7  8]\n",
      " [ 9 10 11]\n",
      " [11 12 13]\n",
      " [14 15 16]\n",
      " [17 18 19]\n",
      " [20 21 22]\n",
      " [23 24 25]\n",
      " [26 27 28]\n",
      " [29 30 31]\n",
      " [32 33 34]]\n"
     ]
    }
   ],
   "source": [
    "import numpy as np\n",
    "\n",
    "#  1st matrix\n",
    "a=np.arange(12).reshape(4,3)\n",
    "print(\"A:\",a)\n",
    "\n",
    "#  2nd matrix\n",
    "b=np.arange(11,23).reshape(4,3)\n",
    "print(\"B:\",b)\n",
    "\n",
    "#  3rd matrix\n",
    "c=np.arange(23,35).reshape(4,3)\n",
    "print(\"C:\",c)\n",
    "\n",
    "result=np.concatenate((a,b,c))\n",
    "\n",
    "print(\"answere:\",result)"
   ]
  },
  {
   "attachments": {},
   "cell_type": "markdown",
   "metadata": {},
   "source": [
    "Concantenate( )"
   ]
  },
  {
   "cell_type": "code",
   "execution_count": 16,
   "metadata": {},
   "outputs": [
    {
     "data": {
      "text/plain": [
       "array([[ 0,  1,  2, 11, 12, 13, 23, 24, 25],\n",
       "       [ 3,  4,  5, 14, 15, 16, 26, 27, 28],\n",
       "       [ 6,  7,  8, 17, 18, 19, 29, 30, 31],\n",
       "       [ 9, 10, 11, 20, 21, 22, 32, 33, 34]])"
      ]
     },
     "execution_count": 16,
     "metadata": {},
     "output_type": "execute_result"
    }
   ],
   "source": [
    "#  Axis .\n",
    "np.concatenate((a,b,c),axis=1)"
   ]
  },
  {
   "attachments": {},
   "cell_type": "markdown",
   "metadata": {},
   "source": [
    "Stack( )"
   ]
  },
  {
   "cell_type": "code",
   "execution_count": 7,
   "metadata": {},
   "outputs": [
    {
     "data": {
      "text/plain": [
       "array([[[ 0,  1,  2],\n",
       "        [11, 12, 13],\n",
       "        [23, 24, 25]],\n",
       "\n",
       "       [[ 3,  4,  5],\n",
       "        [14, 15, 16],\n",
       "        [26, 27, 28]],\n",
       "\n",
       "       [[ 6,  7,  8],\n",
       "        [17, 18, 19],\n",
       "        [29, 30, 31]],\n",
       "\n",
       "       [[ 9, 10, 11],\n",
       "        [20, 21, 22],\n",
       "        [32, 33, 34]]])"
      ]
     },
     "execution_count": 7,
     "metadata": {},
     "output_type": "execute_result"
    }
   ],
   "source": [
    "#  Stack: stack() is used for joining multiple NumPy arrays\n",
    "np.stack((a,b,c),axis=1)"
   ]
  },
  {
   "attachments": {},
   "cell_type": "markdown",
   "metadata": {},
   "source": [
    "Vstack( )"
   ]
  },
  {
   "cell_type": "code",
   "execution_count": 17,
   "metadata": {},
   "outputs": [
    {
     "data": {
      "text/plain": [
       "array([[ 0,  1,  2],\n",
       "       [ 3,  4,  5],\n",
       "       [ 6,  7,  8],\n",
       "       [ 9, 10, 11],\n",
       "       [11, 12, 13],\n",
       "       [14, 15, 16],\n",
       "       [17, 18, 19],\n",
       "       [20, 21, 22],\n",
       "       [23, 24, 25],\n",
       "       [26, 27, 28],\n",
       "       [29, 30, 31],\n",
       "       [32, 33, 34]])"
      ]
     },
     "execution_count": 17,
     "metadata": {},
     "output_type": "execute_result"
    }
   ],
   "source": [
    "#  Vstack:vstack() function is used to stack the sequence of NumPy arrays vertically and return the single array.\n",
    "np.vstack((a,b,c))"
   ]
  },
  {
   "attachments": {},
   "cell_type": "markdown",
   "metadata": {},
   "source": [
    "hstack( )"
   ]
  },
  {
   "cell_type": "code",
   "execution_count": 18,
   "metadata": {},
   "outputs": [
    {
     "data": {
      "text/plain": [
       "array([[ 0,  1,  2, 11, 12, 13, 23, 24, 25],\n",
       "       [ 3,  4,  5, 14, 15, 16, 26, 27, 28],\n",
       "       [ 6,  7,  8, 17, 18, 19, 29, 30, 31],\n",
       "       [ 9, 10, 11, 20, 21, 22, 32, 33, 34]])"
      ]
     },
     "execution_count": 18,
     "metadata": {},
     "output_type": "execute_result"
    }
   ],
   "source": [
    "#  hstack:hstack() function is used to stack the sequence of input arrays horizontally \n",
    "# (i.e. column wise) to make a single array.\n",
    "np.hstack((a,b,c))"
   ]
  },
  {
   "attachments": {},
   "cell_type": "markdown",
   "metadata": {},
   "source": [
    "dstack( )"
   ]
  },
  {
   "cell_type": "code",
   "execution_count": 20,
   "metadata": {},
   "outputs": [
    {
     "name": "stdout",
     "output_type": "stream",
     "text": [
      "14\n",
      "[[[ 0 11 23]\n",
      "  [ 1 12 24]\n",
      "  [ 2 13 25]]\n",
      "\n",
      " [[ 3 14 26]\n",
      "  [ 4 15 27]\n",
      "  [ 5 16 28]]\n",
      "\n",
      " [[ 6 17 29]\n",
      "  [ 7 18 30]\n",
      "  [ 8 19 31]]\n",
      "\n",
      " [[ 9 20 32]\n",
      "  [10 21 33]\n",
      "  [11 22 34]]]\n"
     ]
    }
   ],
   "source": [
    "import numpy as np\n",
    "\n",
    "# dstack:The dstack() function in NumPy is used to stack or arrange the given arrays\n",
    "#  in a sequence depth wise\n",
    "arr=np.dstack((a,b,c))\n",
    "print(arr[1,0,1])\n",
    "print(arr)"
   ]
  },
  {
   "cell_type": "markdown",
   "metadata": {},
   "source": [
    "Array Slicing And Indexing"
   ]
  },
  {
   "cell_type": "code",
   "execution_count": 51,
   "metadata": {},
   "outputs": [
    {
     "name": "stdout",
     "output_type": "stream",
     "text": [
      "1\n",
      "[4 5 6]\n",
      "[2 5 8]\n",
      "[[2 3]\n",
      " [5 6]]\n"
     ]
    }
   ],
   "source": [
    "import numpy as np\n",
    "\n",
    "Array=np.array([[1,2,3],[4,5,6],[7,8,9]])\n",
    "\n",
    "# Access Individual Element  in [index,row] method\n",
    "index=Array[0,0]\n",
    "print(index)\n",
    "\n",
    "# Access paticular Row\n",
    "Row=(Array[1])\n",
    "print(Row)\n",
    "\n",
    "# Access paticular Coloumn\n",
    "Coloumn=(Array[:,1])\n",
    "print(Coloumn)\n",
    "\n",
    "#  Subarray\n",
    "SubAry=Array[0:2,1:3]\n",
    "print(SubAry)"
   ]
  },
  {
   "cell_type": "markdown",
   "metadata": {},
   "source": [
    "Array opration"
   ]
  },
  {
   "cell_type": "code",
   "execution_count": 3,
   "metadata": {},
   "outputs": [
    {
     "name": "stdout",
     "output_type": "stream",
     "text": [
      "sum [[ 5  7  9]\n",
      " [11 13 15]\n",
      " [ 5  9 13]]\n",
      "Subtraction [[-3 -3 -3]\n",
      " [-3 -3 -3]\n",
      " [-1  1 -1]]\n",
      "Mutiplication [[ 4 10 18]\n",
      " [28 40 54]\n",
      " [ 6 20 42]]\n",
      "Division [[0.25       0.4        0.5       ]\n",
      " [0.57142857 0.625      0.66666667]\n",
      " [0.66666667 1.25       0.85714286]]\n",
      "Dot_Product [[ 27  33  45]\n",
      " [ 69  84 111]\n",
      " [ 61  74  99]]\n"
     ]
    }
   ],
   "source": [
    "import numpy as np\n",
    "\n",
    "Op_Array1=np.array([[1,2,3],[4,5,6],[2,5,6]])\n",
    "\n",
    "Op_Array2=np.array([[4,5,6],[7,8,9],[3,4,7]])\n",
    "\n",
    "Sum=Op_Array1+Op_Array2\n",
    "print(\"sum\",Sum)\n",
    "\n",
    "Subtraction=Op_Array1-Op_Array2\n",
    "print(\"Subtraction\",Subtraction)\n",
    "\n",
    "Mutiplication=Op_Array1*Op_Array2\n",
    "print(\"Mutiplication\",Mutiplication)\n",
    "\n",
    "Division=Op_Array1/Op_Array2\n",
    "print(\"Division\",Division)\n",
    "\n",
    "# Dot Product\n",
    "Dot_Product=np.dot(Op_Array1,Op_Array2)\n",
    "print(\"Dot_Product\",Dot_Product)\n"
   ]
  },
  {
   "cell_type": "code",
   "execution_count": 78,
   "metadata": {},
   "outputs": [
    {
     "name": "stdout",
     "output_type": "stream",
     "text": [
      "[[  2.71828183   7.3890561   20.08553692]\n",
      " [ 54.59815003 148.4131591  403.42879349]\n",
      " [  7.3890561  148.4131591  403.42879349]]\n"
     ]
    }
   ],
   "source": [
    "# Element Wise mathematatical function\n",
    "exp=np.exp(Op_Array1)\n",
    "print(exp)\n"
   ]
  },
  {
   "cell_type": "code",
   "execution_count": 4,
   "metadata": {},
   "outputs": [
    {
     "name": "stdout",
     "output_type": "stream",
     "text": [
      "Mean 3.7777777777777777\n",
      "Median 4.0\n",
      "Std_dev 1.7497795275581802\n"
     ]
    }
   ],
   "source": [
    "# import numpy as np\n",
    "# Statistical Function\n",
    "\n",
    "Mean=np.mean(Op_Array1)\n",
    "print(\"Mean\",Mean)\n",
    "Median=np.median(Op_Array1)\n",
    "print(\"Median\",Median)\n",
    "Std_dev=np.std(Op_Array1)\n",
    "print(\"Std_dev\",Std_dev)"
   ]
  }
 ],
 "metadata": {
  "kernelspec": {
   "display_name": "base",
   "language": "python",
   "name": "python3"
  },
  "language_info": {
   "codemirror_mode": {
    "name": "ipython",
    "version": 3
   },
   "file_extension": ".py",
   "mimetype": "text/x-python",
   "name": "python",
   "nbconvert_exporter": "python",
   "pygments_lexer": "ipython3",
   "version": "3.10.9"
  },
  "orig_nbformat": 4
 },
 "nbformat": 4,
 "nbformat_minor": 2
}
