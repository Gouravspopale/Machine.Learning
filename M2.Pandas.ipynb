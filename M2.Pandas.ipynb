{
 "cells": [
  {
   "cell_type": "markdown",
   "metadata": {},
   "source": [
    "PRACTICAL GUIDE ON PANDAS"
   ]
  },
  {
   "attachments": {},
   "cell_type": "markdown",
   "metadata": {},
   "source": [
    "Pandas program"
   ]
  },
  {
   "cell_type": "code",
   "execution_count": 1,
   "metadata": {},
   "outputs": [
    {
     "name": "stdout",
     "output_type": "stream",
     "text": [
      "0    10\n",
      "1    20\n",
      "2    30\n",
      "3    40\n",
      "4    50\n",
      "5    60\n",
      "dtype: int64\n"
     ]
    }
   ],
   "source": [
    "import pandas as pd\n",
    "# import numpy as np\n",
    "\n",
    "# a=np.array([10,20,30,40,50,60])\n",
    "# S=pd.Series(a)\n",
    "\n",
    "S=pd.Series([10,20,30,40,50,60])\n",
    "print(S)"
   ]
  },
  {
   "cell_type": "code",
   "execution_count": 2,
   "metadata": {},
   "outputs": [
    {
     "data": {
      "text/plain": [
       "a    10\n",
       "b    20\n",
       "c    30\n",
       "d    40\n",
       "e    50\n",
       "f    60\n",
       "dtype: int64"
      ]
     },
     "execution_count": 2,
     "metadata": {},
     "output_type": "execute_result"
    }
   ],
   "source": [
    "#  printing index  to paticular values \n",
    "\n",
    "# import pandas as pd\n",
    "# a = [10,70,20]\n",
    "# myvar = pd.Series(a, index = [\"x\",\"y\",\"z\"])\n",
    "# print(myvar)\n",
    "\n",
    "S=pd.Series([10,20,30,40,50,60],index=[\"a\",\"b\",\"c\",\"d\",\"e\",\"f\"])\n",
    "S\n"
   ]
  },
  {
   "cell_type": "code",
   "execution_count": 4,
   "metadata": {},
   "outputs": [
    {
     "name": "stdout",
     "output_type": "stream",
     "text": [
      "30\n"
     ]
    }
   ],
   "source": [
    "# picking the valus from index\n",
    "S=pd.Series([10,20,30,40,50,60],index=[\"a\",\"b\",\"c\",\"d\",\"e\",\"f\"])\n",
    "print(S[\"c\"])"
   ]
  },
  {
   "cell_type": "code",
   "execution_count": 5,
   "metadata": {},
   "outputs": [
    {
     "data": {
      "text/plain": [
       "0    10\n",
       "1    20\n",
       "2    30\n",
       "3    40\n",
       "dtype: int64"
      ]
     },
     "execution_count": 5,
     "metadata": {},
     "output_type": "execute_result"
    }
   ],
   "source": [
    "#  creating Series using list\n",
    "L=[10,20,30,40]\n",
    "pd.Series(L)\n"
   ]
  },
  {
   "cell_type": "code",
   "execution_count": 6,
   "metadata": {},
   "outputs": [
    {
     "name": "stdout",
     "output_type": "stream",
     "text": [
      "day1    42\n",
      "day2    38\n",
      "day3    39\n",
      "dtype: int64\n"
     ]
    }
   ],
   "source": [
    "# Series using dictionary\n",
    "\n",
    "import pandas as pd\n",
    "\n",
    "sales = {\"day1\": 42, \"day2\": 38, \"day3\": 39}\n",
    "myvar = pd.Series(sales)\n",
    "print(myvar)\n"
   ]
  },
  {
   "attachments": {},
   "cell_type": "markdown",
   "metadata": {},
   "source": [
    "Assigment on Student information Using Dictionary Format"
   ]
  },
  {
   "cell_type": "code",
   "execution_count": 7,
   "metadata": {},
   "outputs": [
    {
     "data": {
      "text/html": [
       "<div>\n",
       "<style scoped>\n",
       "    .dataframe tbody tr th:only-of-type {\n",
       "        vertical-align: middle;\n",
       "    }\n",
       "\n",
       "    .dataframe tbody tr th {\n",
       "        vertical-align: top;\n",
       "    }\n",
       "\n",
       "    .dataframe thead th {\n",
       "        text-align: right;\n",
       "    }\n",
       "</style>\n",
       "<table border=\"1\" class=\"dataframe\">\n",
       "  <thead>\n",
       "    <tr style=\"text-align: right;\">\n",
       "      <th></th>\n",
       "      <th>Roll_No</th>\n",
       "      <th>Student_Name</th>\n",
       "      <th>Maths</th>\n",
       "      <th>Science</th>\n",
       "      <th>Total</th>\n",
       "    </tr>\n",
       "  </thead>\n",
       "  <tbody>\n",
       "    <tr>\n",
       "      <th>0</th>\n",
       "      <td>11</td>\n",
       "      <td>Bhavesh</td>\n",
       "      <td>75</td>\n",
       "      <td>85</td>\n",
       "      <td>160</td>\n",
       "    </tr>\n",
       "    <tr>\n",
       "      <th>1</th>\n",
       "      <td>12</td>\n",
       "      <td>hanumanth</td>\n",
       "      <td>78</td>\n",
       "      <td>75</td>\n",
       "      <td>153</td>\n",
       "    </tr>\n",
       "    <tr>\n",
       "      <th>2</th>\n",
       "      <td>13</td>\n",
       "      <td>Ram</td>\n",
       "      <td>65</td>\n",
       "      <td>74</td>\n",
       "      <td>139</td>\n",
       "    </tr>\n",
       "    <tr>\n",
       "      <th>3</th>\n",
       "      <td>14</td>\n",
       "      <td>Darshan</td>\n",
       "      <td>85</td>\n",
       "      <td>98</td>\n",
       "      <td>183</td>\n",
       "    </tr>\n",
       "    <tr>\n",
       "      <th>4</th>\n",
       "      <td>15</td>\n",
       "      <td>Moin</td>\n",
       "      <td>90</td>\n",
       "      <td>82</td>\n",
       "      <td>172</td>\n",
       "    </tr>\n",
       "  </tbody>\n",
       "</table>\n",
       "</div>"
      ],
      "text/plain": [
       "   Roll_No Student_Name  Maths  Science  Total\n",
       "0       11      Bhavesh     75       85    160\n",
       "1       12    hanumanth     78       75    153\n",
       "2       13          Ram     65       74    139\n",
       "3       14      Darshan     85       98    183\n",
       "4       15         Moin     90       82    172"
      ]
     },
     "execution_count": 7,
     "metadata": {},
     "output_type": "execute_result"
    }
   ],
   "source": [
    "# Assigment\n",
    "\n",
    "import pandas as pd\n",
    "# import matplotlib.pyplot as plt\n",
    "# storeing data in dictionary format\n",
    "\n",
    "student_information= {\"Roll_No\"    :[11,12,13,14,15],\n",
    "                     \"Student_Name\":[\"Bhavesh\",\"hanumanth\",\"Ram\",\"Darshan\",\"Moin\"],\n",
    "                     \"Maths\"       :[75,78,65,85,90],\n",
    "                     \"Science\"     :[85,75,74,98,82],\n",
    "                     \"Total\"       :[160,153,139,183,172]}\n",
    "details=pd.DataFrame(student_information)\n",
    "# print(details)\n",
    "details"
   ]
  },
  {
   "cell_type": "code",
   "execution_count": 8,
   "metadata": {},
   "outputs": [
    {
     "name": "stdout",
     "output_type": "stream",
     "text": [
      "Roll_No              11\n",
      "Student_Name    Bhavesh\n",
      "Maths                75\n",
      "Science              85\n",
      "Total               160\n",
      "Name: 0, dtype: object\n"
     ]
    }
   ],
   "source": [
    "#  Printing paticular student Information\n",
    "\n",
    "print(details.loc[0])"
   ]
  },
  {
   "attachments": {},
   "cell_type": "markdown",
   "metadata": {},
   "source": [
    "Creating Data frame"
   ]
  },
  {
   "cell_type": "code",
   "execution_count": 9,
   "metadata": {},
   "outputs": [
    {
     "data": {
      "text/html": [
       "<div>\n",
       "<style scoped>\n",
       "    .dataframe tbody tr th:only-of-type {\n",
       "        vertical-align: middle;\n",
       "    }\n",
       "\n",
       "    .dataframe tbody tr th {\n",
       "        vertical-align: top;\n",
       "    }\n",
       "\n",
       "    .dataframe thead th {\n",
       "        text-align: right;\n",
       "    }\n",
       "</style>\n",
       "<table border=\"1\" class=\"dataframe\">\n",
       "  <thead>\n",
       "    <tr style=\"text-align: right;\">\n",
       "      <th></th>\n",
       "      <th>calories</th>\n",
       "      <th>duration</th>\n",
       "    </tr>\n",
       "  </thead>\n",
       "  <tbody>\n",
       "    <tr>\n",
       "      <th>0</th>\n",
       "      <td>420</td>\n",
       "      <td>50</td>\n",
       "    </tr>\n",
       "    <tr>\n",
       "      <th>1</th>\n",
       "      <td>380</td>\n",
       "      <td>40</td>\n",
       "    </tr>\n",
       "    <tr>\n",
       "      <th>2</th>\n",
       "      <td>390</td>\n",
       "      <td>45</td>\n",
       "    </tr>\n",
       "  </tbody>\n",
       "</table>\n",
       "</div>"
      ],
      "text/plain": [
       "   calories  duration\n",
       "0       420        50\n",
       "1       380        40\n",
       "2       390        45"
      ]
     },
     "execution_count": 9,
     "metadata": {},
     "output_type": "execute_result"
    }
   ],
   "source": [
    "import pandas as pd\n",
    "data = {   \"calories\": [420, 380, 390], \n",
    "            \"duration\": [50, 40, 45] } \n",
    "myvar = pd.DataFrame(data) \n",
    "# print(myvar)\n",
    "myvar"
   ]
  },
  {
   "cell_type": "code",
   "execution_count": 3,
   "metadata": {},
   "outputs": [
    {
     "name": "stdout",
     "output_type": "stream",
     "text": [
      "   Roll_No Student_Name  Maths  Science  Total\n",
      "0       11         Ramu     75       85    160\n",
      "1       12       Sudeep     78       75    153\n",
      "2       13        kiran     65       74    139\n",
      "3       14        Amiit     85       98    183\n",
      "4       15        vikas     90       82    172\n"
     ]
    },
    {
     "data": {
      "image/png": "[encoded data removed]",
      "text/plain": [
       "<Figure size 640x480 with 1 Axes>"
      ]
     },
     "metadata": {},
     "output_type": "display_data"
    }
   ],
   "source": [
    "# Assigment\n",
    "\n",
    "import pandas as pd\n",
    "import matplotlib.pyplot as plt\n",
    "#  storeing data in dictionary format\n",
    "\n",
    "student_information= {\"Roll_No\"    :[11,12,13,14,15],\n",
    "                     \"Student_Name\":[\"Ramu\",\"Sudeep\",\"kiran\",\"Amiit\",\"vikas\"],\n",
    "                     \"Maths\"       :[75,78,65,85,90],\n",
    "                     \"Science\"     :[85,75,74,98,82],\n",
    "                     \"Total\"       :[160,153,139,183,172]}\n",
    "details=pd.DataFrame(student_information)\n",
    "print(details)\n",
    "\n",
    "\n",
    "# Note:the values need to be numeric, now they are strings\n",
    "details['Total'] = details['Total'].astype(float)  # make numeric\n",
    "\n",
    "Total_Marks = details.groupby('Student_Name')['Total'].sum().to_dict()\n",
    "\n",
    "plt.pie(Total_Marks.values(), labels=Total_Marks.keys(),\n",
    "        startangle=45, autopct='%.1f%%',\n",
    "        colors=plt.cm.Set1.colors,\n",
    "        shadow=True)\n",
    "\n",
    "plt.show()\n"
   ]
  },
  {
   "attachments": {},
   "cell_type": "markdown",
   "metadata": {},
   "source": [
    "Loading files into  a dataframe"
   ]
  },
  {
   "cell_type": "code",
   "execution_count": 9,
   "metadata": {},
   "outputs": [
    {
     "data": {
      "text/html": [
       "<div>\n",
       "<style scoped>\n",
       "    .dataframe tbody tr th:only-of-type {\n",
       "        vertical-align: middle;\n",
       "    }\n",
       "\n",
       "    .dataframe tbody tr th {\n",
       "        vertical-align: top;\n",
       "    }\n",
       "\n",
       "    .dataframe thead th {\n",
       "        text-align: right;\n",
       "    }\n",
       "</style>\n",
       "<table border=\"1\" class=\"dataframe\">\n",
       "  <thead>\n",
       "    <tr style=\"text-align: right;\">\n",
       "      <th></th>\n",
       "      <th>Surname</th>\n",
       "      <th>First name</th>\n",
       "      <th>Email address</th>\n",
       "      <th>Grade/30.00</th>\n",
       "    </tr>\n",
       "  </thead>\n",
       "  <tbody>\n",
       "    <tr>\n",
       "      <th>0</th>\n",
       "      <td>Tanveer</td>\n",
       "      <td>Muhammad Usama</td>\n",
       "      <td>cs181017@kfueit.edu.pk</td>\n",
       "      <td>18</td>\n",
       "    </tr>\n",
       "    <tr>\n",
       "      <th>1</th>\n",
       "      <td>Khan</td>\n",
       "      <td>Muneeb Hassan</td>\n",
       "      <td>cosc18131128@kfueit.edu.pk</td>\n",
       "      <td>23</td>\n",
       "    </tr>\n",
       "    <tr>\n",
       "      <th>2</th>\n",
       "      <td>Ali</td>\n",
       "      <td>Usama</td>\n",
       "      <td>cosc19231030@kfueit.edu.pk</td>\n",
       "      <td>21</td>\n",
       "    </tr>\n",
       "    <tr>\n",
       "      <th>3</th>\n",
       "      <td>.</td>\n",
       "      <td>Zulqarnane</td>\n",
       "      <td>cs171203@kfueit.edu.pk</td>\n",
       "      <td>26</td>\n",
       "    </tr>\n",
       "    <tr>\n",
       "      <th>4</th>\n",
       "      <td>Ali</td>\n",
       "      <td>Mohammad Muneeb</td>\n",
       "      <td>cs171137@kfueit.edu.pk</td>\n",
       "      <td>26</td>\n",
       "    </tr>\n",
       "    <tr>\n",
       "      <th>...</th>\n",
       "      <td>...</td>\n",
       "      <td>...</td>\n",
       "      <td>...</td>\n",
       "      <td>...</td>\n",
       "    </tr>\n",
       "    <tr>\n",
       "      <th>70</th>\n",
       "      <td>.</td>\n",
       "      <td>ESHA AMJAD</td>\n",
       "      <td>cosc19131038@kfueit.edu.pk</td>\n",
       "      <td>12</td>\n",
       "    </tr>\n",
       "    <tr>\n",
       "      <th>71</th>\n",
       "      <td>AMANAT</td>\n",
       "      <td>KAINAT</td>\n",
       "      <td>cosc19131010@kfueit.edu.pk</td>\n",
       "      <td>5</td>\n",
       "    </tr>\n",
       "    <tr>\n",
       "      <th>72</th>\n",
       "      <td>NAWAZ</td>\n",
       "      <td>RIMSHA</td>\n",
       "      <td>cosc19131046@kfueit.edu.pk</td>\n",
       "      <td>5</td>\n",
       "    </tr>\n",
       "    <tr>\n",
       "      <th>73</th>\n",
       "      <td>Salar</td>\n",
       "      <td>Khan</td>\n",
       "      <td>cs171128@kfueit.edu.pk</td>\n",
       "      <td>10</td>\n",
       "    </tr>\n",
       "    <tr>\n",
       "      <th>74</th>\n",
       "      <td>Hafiz</td>\n",
       "      <td>Fahad</td>\n",
       "      <td>cs171135</td>\n",
       "      <td>12</td>\n",
       "    </tr>\n",
       "  </tbody>\n",
       "</table>\n",
       "<p>75 rows × 4 columns</p>\n",
       "</div>"
      ],
      "text/plain": [
       "    Surname       First name               Email address  Grade/30.00\n",
       "0   Tanveer   Muhammad Usama      cs181017@kfueit.edu.pk           18\n",
       "1      Khan    Muneeb Hassan  cosc18131128@kfueit.edu.pk           23\n",
       "2       Ali            Usama  cosc19231030@kfueit.edu.pk           21\n",
       "3         .       Zulqarnane      cs171203@kfueit.edu.pk           26\n",
       "4       Ali  Mohammad Muneeb      cs171137@kfueit.edu.pk           26\n",
       "..      ...              ...                         ...          ...\n",
       "70        .       ESHA AMJAD  cosc19131038@kfueit.edu.pk           12\n",
       "71   AMANAT           KAINAT  cosc19131010@kfueit.edu.pk            5\n",
       "72    NAWAZ           RIMSHA  cosc19131046@kfueit.edu.pk            5\n",
       "73    Salar             Khan      cs171128@kfueit.edu.pk           10\n",
       "74    Hafiz            Fahad                    cs171135           12\n",
       "\n",
       "[75 rows x 4 columns]"
      ]
     },
     "execution_count": 9,
     "metadata": {},
     "output_type": "execute_result"
    }
   ],
   "source": [
    "# loading data rrom excel(read_excel)\n",
    "\n",
    "import pandas as pd\n",
    "# loading data from csv file(read_csv) \n",
    "data=pd.read_csv(\"C:/Users/User7/Desktop/csv.file/MCS-3A-MID-1.csv\")\n",
    "  \n",
    "data\n",
    "\n",
    "      "
   ]
  },
  {
   "cell_type": "code",
   "execution_count": 10,
   "metadata": {},
   "outputs": [
    {
     "name": "stdout",
     "output_type": "stream",
     "text": [
      "     Surname       First name               Email address  Grade/30.00\n",
      "0    Tanveer   Muhammad Usama      cs181017@kfueit.edu.pk           18\n",
      "1       Khan    Muneeb Hassan  cosc18131128@kfueit.edu.pk           23\n",
      "2        Ali            Usama  cosc19231030@kfueit.edu.pk           21\n",
      "3          .       Zulqarnane      cs171203@kfueit.edu.pk           26\n",
      "4        Ali  Mohammad Muneeb      cs171137@kfueit.edu.pk           26\n",
      "5      Rafiq    Zainab Shakir      cs172076@kfueit.edu.pk           16\n",
      "6     Shahid   Muhammad Hamza      cs171198@kfueit.edu.pk           26\n",
      "7      Ahmad      Ahmad Bilal      cs171185@kfueit.edu.pk           25\n",
      "8      NAEEM            NAJAF  cosc19131003@kfueit.edu.pk           21\n",
      "9       Ijaz             Aman      cs181029@kfueit.edu.pk           24\n",
      "10    Sajjad       Mian Talha      cs172126@kfueit.edu.pk           23\n",
      "11     Ahmad            Usama      cs181053@kfueit.edu.pk           15\n",
      "12       ALI           MAISIM  cosc19131015@kfueit.edu.pk           15\n",
      "13       ALI            QADIR  cosc19131007@kfueit.edu.pk           27\n",
      "14       Ali  Mohammad Haseeb      cs171194@kfueit.edu.pk           26\n",
      "15     AHMED              JAM  cosc19131052@kfueit.edu.pk           18\n",
      "16    Imtiaz         Sikandar      cs171009@kfueit.edu.pk           27\n",
      "17     KUMAR           DALEEP  cosc19131029@kfueit.edu.pk           28\n",
      "18    FAROOQ           JUNAID  cosc19131001@kfueit.edu.pk           27\n",
      "19     Almas       Mah Jabeen  cosc19231016@kfueit.edu.pk           15\n",
      "20     IRFAN           KHANSA  cosc19231014@kfueit.edu.pk           12\n",
      "21    ASHRAF           REHMAN  cosc19131035@kfueit.edu.pk           14\n",
      "22         .     Hina Murtaza  cosc19231034@kfueit.edu.pk            7\n",
      "23    FATIMA           GHULAM  cosc19131032@kfueit.edu.pk           11\n",
      "24     IKRAM            HAMZA  cosc19131018@kfueit.edu.pk           28\n",
      "25     HAMZA     MUHAMMAD ALI  cosc19131043@kfueit.edu.pk           28\n",
      "26     KUMAR            VIJAY  cosc19131030@kfueit.edu.pk           27\n",
      "27    SALEEM             SANA  cosc19131005@kfueit.edu.pk           16\n",
      "28       ALI           ARSLAN  cosc19131034@kfueit.edu.pk           28\n",
      "29  SAKHAWAT            MARIA  cosc19131045@kfueit.edu.pk           11\n",
      "30    ASGHAR              ALI  cosc19131036@kfueit.edu.pk           27\n",
      "31    LIAQAT            USMAN  cosc19131008@kfueit.edu.pk           17\n",
      "32     Saeed             Iqra  cosc19231011@kfueit.edu.pk           12\n",
      "33     Bilal         Muhammad      cs181048@kfueit.edu.pk           11\n",
      "34    RAHEEL         MUHAMMAD  cosc19131022@kfueit.edu.pk           24\n",
      "35    SATTAR          FAREEHA  cosc19131017@kfueit.edu.pk           24\n",
      "36    Farooq             Saim  cosc18131073@kfueit.edu.pk           22\n",
      "37         .   MUHAMMAD NAZIM  cosc19131026@kfueit.edu.pk           15\n",
      "38     Azhar            Hamza      cs172167@kfueit.edu.pk           24\n",
      "39     QASIM             HINA  cosc19131013@kfueit.edu.pk           16\n",
      "40    IRSHAD           KANWAL  cosc19131012@kfueit.edu.pk           17\n",
      "41   HUSSAIN              ALI  cosc19131044@kfueit.edu.pk           18\n",
      "42     KOMAL           KAINAT  cosc19131011@kfueit.edu.pk           14\n",
      "43      ABID   MUHAMMAD TALHA  cosc19131024@kfueit.edu.pk           23\n",
      "44  IFTIKHAR            SHIZA  cosc19131014@kfueit.edu.pk           16\n",
      "45    KFUEIT     cosc19131051  cosc19131051@kfueit.edu.pk           23\n",
      "46     BILAL         MUHAMMAD  cosc19131033@kfueit.edu.pk           19\n",
      "47       ZIA           KASHAF  cosc19131040@kfueit.edu.pk           18\n",
      "48    JAVAID             ASAD  cosc19131039@kfueit.edu.pk           18\n",
      "49    FAROOQ           KHANSA  cosc19131049@kfueit.edu.pk           26\n",
      "50    ARSHAD         MUHAMMAD  cosc19131002@kfueit.edu.pk           17\n",
      "51     TALIB            KIRAN  cosc19131028@kfueit.edu.pk           14\n",
      "52      RAUF      FAIZA ABDUL  cosc19131048@kfueit.edu.pk           15\n",
      "53     AFZAL           MOAZAM  cosc19131041@kfueit.edu.pk           18\n",
      "54   SHOUKAT           AYESHA  cosc19131004@kfueit.edu.pk           20\n",
      "55     Ghous  Muhammad Safdar      cs181021@kfueit.edu.pk           12\n",
      "56     Afzal        Abu Nasar  cosc18131111@kfueit.edu.pk           21\n",
      "57    Shoaib    Syed Muhammad      cs181039@kfueit.edu.pk           23\n",
      "58     IMRAN         MUHAMMAD  cosc19131019@kfueit.edu.pk           19\n",
      "59      BIBI          SUMAIRA  cosc19131031@kfueit.edu.pk           15\n",
      "60     Javed            Arbaz      cs181042@kfueit.edu.pk           14\n",
      "61     AFZAL          MINAHIL  cosc19131009@kfueit.edu.pk           12\n",
      "62    Arshad            Kiran  cosc18131106@kfueit.edu.pk           18\n",
      "63     ASLAM           SAMINA  cosc19131027@kfueit.edu.pk           17\n",
      "64     ILYAS         MUHAMMAD  cosc19131037@kfueit.edu.pk           30\n",
      "65    Kamiii     KAMRAN AKBAR  cosc19131042@kfueit.edu.pk           30\n",
      "66      Ejaz            Zawar      cs181043@kfueit.edu.pk           12\n",
      "67     ATTIQ           RIZWAN  cosc19131021@kfueit.edu.pk           22\n",
      "68     ASHIQ           AYESHA  cosc19131023@kfueit.edu.pk           11\n",
      "69      Khan           Sallar      cs171128@kfueit.edu.pk           13\n",
      "70         .       ESHA AMJAD  cosc19131038@kfueit.edu.pk           12\n",
      "71    AMANAT           KAINAT  cosc19131010@kfueit.edu.pk            5\n",
      "72     NAWAZ           RIMSHA  cosc19131046@kfueit.edu.pk            5\n",
      "73     Salar             Khan      cs171128@kfueit.edu.pk           10\n",
      "74     Hafiz            Fahad                    cs171135           12\n"
     ]
    }
   ],
   "source": [
    "# (to_string) print whole data from excel \n",
    "print(data.to_string())"
   ]
  },
  {
   "cell_type": "code",
   "execution_count": 1,
   "metadata": {},
   "outputs": [
    {
     "name": "stdout",
     "output_type": "stream",
     "text": [
      "   Duration  Pulse  Maxpulse  Calories\n",
      "0        60    110       130       409\n",
      "1        60    117       145       479\n",
      "2        60    103       135       340\n",
      "3        45    109       175       282\n",
      "4        45    117       148       406\n",
      "5        60    102       127       300\n"
     ]
    }
   ],
   "source": [
    "# program to print Data frame using Pandas\n",
    "import pandas as pd\n",
    "\n",
    "data={\n",
    "    \"Duration\" :{\n",
    "        \"0\":60,\n",
    "        \"1\":60,\n",
    "        \"2\":60,\n",
    "        \"3\":45,\n",
    "        \"4\":45,\n",
    "        \"5\":60\n",
    "\n",
    "    },\n",
    "    \"Pulse\":{\n",
    "        \"0\":110,\n",
    "        \"1\":117,\n",
    "        \"2\":103,\n",
    "        \"3\":109,\n",
    "        \"4\":117,\n",
    "        \"5\":102 \n",
    "    },\n",
    "    \"Maxpulse\":{\n",
    "        \"0\":130,\n",
    "        \"1\":145,\n",
    "        \"2\":135,\n",
    "        \"3\":175,\n",
    "        \"4\":148,\n",
    "        \"5\":127\n",
    "    },\n",
    "    \"Calories\":{\n",
    "        \"0\":409,\n",
    "        \"1\":479,\n",
    "        \"2\":340,\n",
    "        \"3\":282,\n",
    "        \"4\":406,\n",
    "        \"5\":300\n",
    "    }\n",
    "}\n",
    "df = pd.DataFrame(data)\n",
    "print(df)"
   ]
  },
  {
   "attachments": {},
   "cell_type": "markdown",
   "metadata": {},
   "source": [
    "Reading Jason"
   ]
  },
  {
   "cell_type": "code",
   "execution_count": 36,
   "metadata": {},
   "outputs": [
    {
     "data": {
      "text/html": [
       "<div>\n",
       "<style scoped>\n",
       "    .dataframe tbody tr th:only-of-type {\n",
       "        vertical-align: middle;\n",
       "    }\n",
       "\n",
       "    .dataframe tbody tr th {\n",
       "        vertical-align: top;\n",
       "    }\n",
       "\n",
       "    .dataframe thead th {\n",
       "        text-align: right;\n",
       "    }\n",
       "</style>\n",
       "<table border=\"1\" class=\"dataframe\">\n",
       "  <thead>\n",
       "    <tr style=\"text-align: right;\">\n",
       "      <th></th>\n",
       "      <th>Student1</th>\n",
       "      <th>Student2</th>\n",
       "      <th>Stdent3</th>\n",
       "      <th>Student4</th>\n",
       "      <th>Student5</th>\n",
       "      <th>Student6</th>\n",
       "      <th>Student7</th>\n",
       "    </tr>\n",
       "  </thead>\n",
       "  <tbody>\n",
       "    <tr>\n",
       "      <th>Name</th>\n",
       "      <td>Darshan</td>\n",
       "      <td>Bhavesh</td>\n",
       "      <td>Shanker</td>\n",
       "      <td>Samarth</td>\n",
       "      <td>Nandan</td>\n",
       "      <td>Moin</td>\n",
       "      <td>Hanmanth</td>\n",
       "    </tr>\n",
       "    <tr>\n",
       "      <th>Roll Number</th>\n",
       "      <td>1</td>\n",
       "      <td>2</td>\n",
       "      <td>3</td>\n",
       "      <td>4</td>\n",
       "      <td>5</td>\n",
       "      <td>6</td>\n",
       "      <td>7</td>\n",
       "    </tr>\n",
       "    <tr>\n",
       "      <th>Age</th>\n",
       "      <td>19</td>\n",
       "      <td>19</td>\n",
       "      <td>19</td>\n",
       "      <td>19</td>\n",
       "      <td>19</td>\n",
       "      <td>19</td>\n",
       "      <td>19</td>\n",
       "    </tr>\n",
       "    <tr>\n",
       "      <th>Class</th>\n",
       "      <td>11</td>\n",
       "      <td>11</td>\n",
       "      <td>11</td>\n",
       "      <td>11</td>\n",
       "      <td>11</td>\n",
       "      <td>11</td>\n",
       "      <td>11</td>\n",
       "    </tr>\n",
       "    <tr>\n",
       "      <th>Marks</th>\n",
       "      <td>85</td>\n",
       "      <td>95</td>\n",
       "      <td>89</td>\n",
       "      <td>80</td>\n",
       "      <td>96</td>\n",
       "      <td>87</td>\n",
       "      <td>81</td>\n",
       "    </tr>\n",
       "    <tr>\n",
       "      <th>Grade</th>\n",
       "      <td>A</td>\n",
       "      <td>A</td>\n",
       "      <td>A</td>\n",
       "      <td>A</td>\n",
       "      <td>A</td>\n",
       "      <td>A</td>\n",
       "      <td>A</td>\n",
       "    </tr>\n",
       "  </tbody>\n",
       "</table>\n",
       "</div>"
      ],
      "text/plain": [
       "            Student1 Student2  Stdent3 Student4 Student5 Student6  Student7\n",
       "Name         Darshan  Bhavesh  Shanker  Samarth   Nandan     Moin  Hanmanth\n",
       "Roll Number        1        2        3        4        5        6         7\n",
       "Age               19       19       19       19       19       19        19\n",
       "Class             11       11       11       11       11       11        11\n",
       "Marks             85       95       89       80       96       87        81\n",
       "Grade              A        A        A        A        A        A         A"
      ]
     },
     "execution_count": 36,
     "metadata": {},
     "output_type": "execute_result"
    }
   ],
   "source": [
    "\n",
    "import pandas as pd\n",
    "# loading data from csv file(read_csv) \n",
    "data=pd.read_json(\"C:/Users/User7/Desktop/ML.WAR/M3Data.json\")\n",
    "  \n",
    "data"
   ]
  },
  {
   "attachments": {},
   "cell_type": "markdown",
   "metadata": {},
   "source": [
    "Other built in operations in dataframes"
   ]
  },
  {
   "cell_type": "markdown",
   "metadata": {},
   "source": [
    "EXPLORING DATA"
   ]
  },
  {
   "attachments": {},
   "cell_type": "markdown",
   "metadata": {},
   "source": [
    "head( ) Method"
   ]
  },
  {
   "cell_type": "code",
   "execution_count": 37,
   "metadata": {},
   "outputs": [
    {
     "name": "stdout",
     "output_type": "stream",
     "text": [
      "            Student1 Student2  Stdent3 Student4 Student5 Student6  Student7\n",
      "Name         Darshan  Bhavesh  Shanker  Samarth   Nandan     Moin  Hanmanth\n",
      "Roll Number        1        2        3        4        5        6         7\n",
      "Age               19       19       19       19       19       19        19\n",
      "Class             11       11       11       11       11       11        11\n",
      "Marks             85       95       89       80       96       87        81\n",
      "            Student1 Student2  Stdent3 Student4 Student5 Student6  Student7\n",
      "Name         Darshan  Bhavesh  Shanker  Samarth   Nandan     Moin  Hanmanth\n",
      "Roll Number        1        2        3        4        5        6         7\n"
     ]
    }
   ],
   "source": [
    "import pandas as pd\n",
    "# loading data from csv file(read_csv) \n",
    "data=pd.read_json(\"C:/Users/User7/Desktop/ML.WAR/M3Data.json\")\n",
    "\n",
    "# One of the most used method for getting a quick overview of the top rows,\n",
    "print(data.head())\n",
    "print(data.head(2))\n",
    "# {head (2)} it will print directly from Top rows"
   ]
  },
  {
   "attachments": {},
   "cell_type": "markdown",
   "metadata": {},
   "source": [
    "tail( ) Method"
   ]
  },
  {
   "cell_type": "code",
   "execution_count": 7,
   "metadata": {},
   "outputs": [
    {
     "name": "stdout",
     "output_type": "stream",
     "text": [
      "            Student1 Student2 Stdent3 Student4 Student5 Student6 Student7\n",
      "Roll Number        1        2       3        4        5        6        7\n",
      "Age               19       19      19       19       19       19       19\n",
      "Class             11       11      11       11       11       11       11\n",
      "Marks             85       95      89       80       96       87       81\n",
      "Grade              A        A       A        A        A        A        A\n",
      "      Student1 Student2 Stdent3 Student4 Student5 Student6 Student7\n",
      "Marks       85       95      89       80       96       87       81\n",
      "Grade        A        A       A        A        A        A        A\n"
     ]
    }
   ],
   "source": [
    "import pandas as pd\n",
    "# loading data from csv file(read_csv) \n",
    "data=pd.read_json(\"C:/Users/User7/Desktop/ML.WAR/M3Data.json\")\n",
    "  \n",
    "# One of the most used method for getting a quick overview of the bottom rows  \n",
    "print(data.tail())\n",
    "print(data.tail(2))\n",
    "\n",
    "# {tail (1)} it will print directly from bottom rows"
   ]
  },
  {
   "attachments": {},
   "cell_type": "markdown",
   "metadata": {},
   "source": [
    "Shape( ) return's the number of row and coloum"
   ]
  },
  {
   "cell_type": "code",
   "execution_count": 8,
   "metadata": {},
   "outputs": [
    {
     "name": "stdout",
     "output_type": "stream",
     "text": [
      "(6, 7)\n"
     ]
    }
   ],
   "source": [
    "import pandas as pd\n",
    "# loading data from csv file(read_csv) \n",
    "data=pd.read_json(\"C:/Users/User7/Desktop/ML.WAR/M3Data.json\")\n",
    "  \n",
    "print(data.shape)\n",
    "#  return's the number of row and coloum"
   ]
  },
  {
   "attachments": {},
   "cell_type": "markdown",
   "metadata": {},
   "source": [
    "The iloc() function in python is one of the functions defined in the Pandas module that helps us to select a specific row or column from the data set"
   ]
  },
  {
   "cell_type": "code",
   "execution_count": 9,
   "metadata": {},
   "outputs": [
    {
     "name": "stdout",
     "output_type": "stream",
     "text": [
      "Student1    A\n",
      "Student2    A\n",
      "Stdent3     A\n",
      "Student4    A\n",
      "Student5    A\n",
      "Student6    A\n",
      "Student7    A\n",
      "Name: Grade, dtype: object\n",
      "     Student1 Student2  Stdent3 Student4 Student5 Student6  Student7\n",
      "Name  Darshan  Bhavesh  Shanker  Samarth   Nandan     Moin  Hanmanth\n"
     ]
    }
   ],
   "source": [
    "import pandas as pd\n",
    "# loading data from csv file(read_csv) \n",
    "data=pd.read_json(\"C:/Users/User7/Desktop/ML.WAR/M3Data.json\")\n",
    "\n",
    "#  Coloums\n",
    "# (0=Name),(1=RollNumber),(2=Age),(3=Class),(4=marks),(5=Grade)\n",
    "\n",
    "first = data.iloc[5] #paticular Coloums\n",
    "print(first)\n",
    "\n",
    "print(data.iloc[:1]) #paticular Rows\n",
    "\n"
   ]
  },
  {
   "cell_type": "markdown",
   "metadata": {},
   "source": [
    "(COLUMNS) show the columns name"
   ]
  },
  {
   "cell_type": "code",
   "execution_count": 10,
   "metadata": {},
   "outputs": [
    {
     "name": "stdout",
     "output_type": "stream",
     "text": [
      "Index(['Student1', 'Student2', 'Stdent3', 'Student4', 'Student5', 'Student6',\n",
      "       'Student7'],\n",
      "      dtype='object')\n"
     ]
    }
   ],
   "source": [
    "import pandas as pd\n",
    "# loading data from csv file(read_csv) \n",
    "data=pd.read_json(\"C:/Users/User7/Desktop/ML.WAR/M3Data.json\")\n",
    "\n",
    "# to print only columns from data set\n",
    "print(data.columns)"
   ]
  },
  {
   "cell_type": "code",
   "execution_count": 13,
   "metadata": {},
   "outputs": [
    {
     "name": "stdout",
     "output_type": "stream",
     "text": [
      "       Student1 Student2  Stdent3 Student4 Student5 Student6  Student7\n",
      "count         6        6        6        6        6        6         6\n",
      "unique        6        6        6        6        6        6         6\n",
      "top     Darshan  Bhavesh  Shanker  Samarth   Nandan     Moin  Hanmanth\n",
      "freq          1        1        1        1        1        1         1\n"
     ]
    }
   ],
   "source": [
    "import pandas as pd\n",
    "# loading data from csv file(read_csv) \n",
    "data=pd.read_json(\"C:/Users/User7/Desktop/ML.WAR/M3Data.json\")\n",
    "print(data.describe())"
   ]
  },
  {
   "cell_type": "markdown",
   "metadata": {},
   "source": [
    "Data Cleaning"
   ]
  },
  {
   "cell_type": "code",
   "execution_count": 14,
   "metadata": {},
   "outputs": [
    {
     "name": "stdout",
     "output_type": "stream",
     "text": [
      "Student1    0\n",
      "Student2    0\n",
      "Stdent3     0\n",
      "Student4    0\n",
      "Student5    0\n",
      "Student6    0\n",
      "Student7    0\n",
      "dtype: int64\n"
     ]
    }
   ],
   "source": [
    "import pandas as pd\n",
    "# loading data from csv file(read_csv) \n",
    "data=pd.read_json(\"C:/Users/User7/Desktop/ML.WAR/M3Data.json\")\n",
    "\n",
    "# Check for missing Values\n",
    "print(data.isnull().sum())"
   ]
  },
  {
   "cell_type": "code",
   "execution_count": 20,
   "metadata": {},
   "outputs": [
    {
     "name": "stdout",
     "output_type": "stream",
     "text": [
      "            Student1 Student2  Stdent3 Student4 Student5 Student6  Student7\n",
      "Name         Darshan  Bhavesh  Shanker  Samarth   Nandan     Moin  Hanmanth\n",
      "Roll Number        1        2        3        4        5        6         7\n",
      "Age               19       19       19       19       19       19        19\n",
      "Class             11       11       11       11       11       11        11\n",
      "Marks             85       95       89       80       96       87        81\n",
      "Grade              A        A        A        A        A        A         A\n"
     ]
    }
   ],
   "source": [
    "import pandas as pd\n",
    "# loading data from csv file(read_csv) \n",
    "data=pd.read_json(\"C:/Users/User7/Desktop/ML.WAR/M3Data.json\")\n",
    "\n",
    "# dorp rows with missing values\n",
    "print(data.dropna())"
   ]
  },
  {
   "cell_type": "code",
   "execution_count": 28,
   "metadata": {},
   "outputs": [
    {
     "name": "stdout",
     "output_type": "stream",
     "text": [
      "            Student1 Student2  Stdent3 Student4 Student5 Student6  Student7\n",
      "Name         Darshan  Bhavesh  Shanker  Samarth   Nandan     Moin  Hanmanth\n",
      "Roll Number        1        2        3        4        5        6         7\n",
      "Age               19       19       19       19       19       19        19\n",
      "Class             11       11       11       11       11       11        11\n",
      "Marks             85       95       89       80       96       87        81\n",
      "Grade              A        A        A        A        A        A         A\n"
     ]
    }
   ],
   "source": [
    "import pandas as pd\n",
    "# loading data from csv file(read_csv) \n",
    "data=pd.read_json(\"C:/Users/User7/Desktop/ML.WAR/M3Data.json\")\n",
    "\n",
    "# fill missing value with a specifed value\n",
    "print(data.fillna(0))"
   ]
  },
  {
   "cell_type": "code",
   "execution_count": 29,
   "metadata": {},
   "outputs": [
    {
     "name": "stdout",
     "output_type": "stream",
     "text": [
      "Name           False\n",
      "Roll Number    False\n",
      "Age            False\n",
      "Class          False\n",
      "Marks          False\n",
      "Grade          False\n",
      "dtype: bool\n"
     ]
    }
   ],
   "source": [
    "import pandas as pd\n",
    "# loading data from csv file(read_csv) \n",
    "data=pd.read_json(\"C:/Users/User7/Desktop/ML.WAR/M3Data.json\")\n",
    "\n",
    "# check for duplicate values\n",
    "print(data.duplicated())"
   ]
  },
  {
   "cell_type": "code",
   "execution_count": 30,
   "metadata": {},
   "outputs": [
    {
     "name": "stdout",
     "output_type": "stream",
     "text": [
      "            Student1 Student2  Stdent3 Student4 Student5 Student6  Student7\n",
      "Name         Darshan  Bhavesh  Shanker  Samarth   Nandan     Moin  Hanmanth\n",
      "Roll Number        1        2        3        4        5        6         7\n",
      "Age               19       19       19       19       19       19        19\n",
      "Class             11       11       11       11       11       11        11\n",
      "Marks             85       95       89       80       96       87        81\n",
      "Grade              A        A        A        A        A        A         A\n"
     ]
    }
   ],
   "source": [
    "import pandas as pd\n",
    "# loading data from csv file(read_csv) \n",
    "data=pd.read_json(\"C:/Users/User7/Desktop/ML.WAR/M3Data.json\")\n",
    "\n",
    "print(data.drop_duplicates())"
   ]
  }
 ],
 "metadata": {
  "kernelspec": {
   "display_name": "base",
   "language": "python",
   "name": "python3"
  },
  "language_info": {
   "codemirror_mode": {
    "name": "ipython",
    "version": 3
   },
   "file_extension": ".py",
   "mimetype": "text/x-python",
   "name": "python",
   "nbconvert_exporter": "python",
   "pygments_lexer": "ipython3",
   "version": "3.10.9"
  },
  "orig_nbformat": 4
 },
 "nbformat": 4,
 "nbformat_minor": 2
}
