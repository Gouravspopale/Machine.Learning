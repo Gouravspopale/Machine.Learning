{
 "cells": [
  {
   "cell_type": "markdown",
   "metadata": {},
   "source": [
    "# Opencv"
   ]
  },
  {
   "cell_type": "markdown",
   "metadata": {},
   "source": [
    "OpenCV is a Python library that allows you to perform image processing and computer vision tasks. It provides a wide range of features, including object detection, face recognition, and tracking"
   ]
  },
  {
   "cell_type": "code",
   "execution_count": 8,
   "metadata": {},
   "outputs": [],
   "source": [
    "import cv2 as cv\n",
    "img = cv.imread(\"C:/Users/91843/Desktop/Machine.Learning/sonika-agarwal-iGWXUXGY1YQ-unsplash (1).jpg\")\n",
    "\n",
    "cv.imshow(\"Display window\", img)\n",
    "k = cv.waitKey(0) # Wait for a keystroke in the window"
   ]
  },
  {
   "cell_type": "markdown",
   "metadata": {},
   "source": [
    "https://encrypted-tbn0.gstatic.com/images?q=tbn:ANd9GcTvF0jCQhF9qJuqad_BKj8_MCFASxQ9yTYK1Q&usqp=CAU"
   ]
  },
  {
   "cell_type": "markdown",
   "metadata": {},
   "source": [
    "Unsplash"
   ]
  },
  {
   "cell_type": "markdown",
   "metadata": {},
   "source": [
    "This program  is to convert color image into Black and white"
   ]
  },
  {
   "cell_type": "code",
   "execution_count": 5,
   "metadata": {},
   "outputs": [],
   "source": [
    "# color image to black\n",
    "\n",
    "import cv2\n",
    "\n",
    "# load the input image\n",
    "img = cv2.imread('C:/Users/91843/Desktop/Machine.Learning/istockphoto-1400570540-1024x1024.jpg')\n",
    "\n",
    "# convert the input image to grayscale\n",
    "gray = cv2.cvtColor(img, cv2.COLOR_BGR2GRAY)\n",
    "\n",
    "# apply thresholding to convert grayscale to binary image\n",
    "ret,thresh = cv2.threshold(gray,70,225,0)\n",
    "\n",
    "# Display the Binary Image\n",
    "cv2.imshow(\"Binary Image\", thresh)\n",
    "cv2.waitKey(0)\n",
    "cv2.destroyAllWindows()"
   ]
  },
  {
   "cell_type": "markdown",
   "metadata": {},
   "source": [
    "This program is used to simply display an image from a file using OpenCV. "
   ]
  },
  {
   "cell_type": "code",
   "execution_count": 2,
   "metadata": {},
   "outputs": [],
   "source": [
    "import cv2 \n",
    "# import matplotlib as plt \n",
    "\n",
    "path= ('C:/Users/91843/Desktop/Machine.Learning/istockphoto-1400570540-1024x1024.jpg')\n",
    "\n",
    "image=cv2.imread(path)\n",
    "\n",
    "window_name = 'image'\n",
    "\n",
    "cv2.imshow(window_name,image)\n",
    "\n",
    "cv2.waitKey(0)\n",
    "\n",
    "cv2.destroyAllWindows()\n"
   ]
  },
  {
   "cell_type": "code",
   "execution_count": 3,
   "metadata": {},
   "outputs": [],
   "source": [
    "import cv2 \n",
    "# import matplotlib as plt \n",
    "\n",
    "path= ('sonika-agarwal-iGWXUXGY1YQ-unsplash (1).jpg')\n",
    "\n",
    "image=cv2.imread(path)\n",
    "\n",
    "window_name = 'image'\n",
    "\n",
    "cv2.imshow(window_name,image)\n",
    "\n",
    "cv2.waitKey(0)\n",
    "\n",
    "cv2.destroyAllWindows()\n"
   ]
  },
  {
   "cell_type": "markdown",
   "metadata": {},
   "source": [
    "path,0"
   ]
  },
  {
   "cell_type": "code",
   "execution_count": 4,
   "metadata": {},
   "outputs": [],
   "source": [
    "import cv2 \n",
    "# import matplotlib as plt \n",
    "\n",
    "path= ('C:/Users/91843/Desktop/Machine.Learning/istockphoto-1400570540-1024x1024.jpg')\n",
    "\n",
    "'''In OpenCV, when you use the cv2.imread(path, 0) function, you are reading\n",
    "# an image from the specified file path and loading it as a grayscale image. Let's break down the usage:'''\n",
    "\n",
    "\n",
    "image=cv2.imread(path,0)\n",
    "\n",
    "window_name = 'image'\n",
    "\n",
    "cv2.imshow(window_name,image)\n",
    "\n",
    "cv2.waitKey(0)\n",
    "\n",
    "cv2.destroyAllWindows()\n"
   ]
  },
  {
   "cell_type": "markdown",
   "metadata": {},
   "source": [
    "This program is used to load an image, manipulate it slightly, and then save it to a different file"
   ]
  },
  {
   "cell_type": "code",
   "execution_count": 6,
   "metadata": {},
   "outputs": [
    {
     "name": "stdout",
     "output_type": "stream",
     "text": [
      "Before saving image:\n",
      "['.git', 'Assigment', 'Excel', 'istockphoto-1400570540-1024x1024.jpg', 'M5.Opencv.ipynb', 'PYQRcode.Generate', \"Python library's\", 'savedImage.jpg', 'sonika-agarwal-iGWXUXGY1YQ-unsplash (1).jpg', 'Supervised Learning', 'UNsupervised Learning']\n",
      "After saving image:\n",
      "['.git', 'Assigment', 'Excel', 'istockphoto-1400570540-1024x1024.jpg', 'M5.Opencv.ipynb', 'PYQRcode.Generate', \"Python library's\", 'savedImage.jpg', 'sonika-agarwal-iGWXUXGY1YQ-unsplash (1).jpg', 'Supervised Learning', 'UNsupervised Learning']\n",
      "Successfully saved\n"
     ]
    }
   ],
   "source": [
    "# This program is used to load an image, manipulate it slightly, and then save it to a different file\n",
    "\n",
    "import cv2\n",
    "\n",
    "# The OS module in Python provides functions for interacting with the operating system. \n",
    "import os\n",
    "\n",
    "image_path= ('C:/Users/91843/Desktop/Machine.Learning/istockphoto-1400570540-1024x1024.jpg')\n",
    "\n",
    "directory=('C:/Users/91843/Desktop/Machine.Learning')\n",
    "\n",
    "img = cv2.imread(image_path,101)\n",
    "\n",
    "\n",
    "os.chdir(directory)\n",
    "\n",
    "print(\"Before saving image:\")  \n",
    "print(os.listdir(directory))\n",
    "\n",
    "# Filename\n",
    "filename = 'savedImage.jpg'\n",
    "\n",
    "cv2.imwrite(filename, img)\n",
    "\n",
    "\n",
    "print(\"After saving image:\")  \n",
    "\n",
    "print(os.listdir(directory))\n",
    "  \n",
    "print('Successfully saved')"
   ]
  }
 ],
 "metadata": {
  "kernelspec": {
   "display_name": "base",
   "language": "python",
   "name": "python3"
  },
  "language_info": {
   "codemirror_mode": {
    "name": "ipython",
    "version": 3
   },
   "file_extension": ".py",
   "mimetype": "text/x-python",
   "name": "python",
   "nbconvert_exporter": "python",
   "pygments_lexer": "ipython3",
   "version": "3.11.4"
  },
  "orig_nbformat": 4
 },
 "nbformat": 4,
 "nbformat_minor": 2
}
