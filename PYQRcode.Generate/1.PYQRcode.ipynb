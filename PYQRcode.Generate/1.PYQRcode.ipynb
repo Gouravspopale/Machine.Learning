{
 "cells": [
  {
   "cell_type": "markdown",
   "metadata": {},
   "source": [
    "Practical guide on QRcode"
   ]
  },
  {
   "cell_type": "markdown",
   "metadata": {},
   "source": [
    "What is QRcode and how it works\n",
    "\n",
    "It is a machine-scannable image that can instantly be read using a Smartphone camera. Every QR code consists of a number of black squares and dots which represent certain pieces of information. When your Smartphone scans this code, it translate that information into something that can be easily understand by humans."
   ]
  },
  {
   "cell_type": "markdown",
   "metadata": {},
   "source": [
    "packages to be installed to Run a QRcode Program\n",
    "\n",
    "# pip install pyqrcode\n",
    "\n",
    "# pip install pypng"
   ]
  },
  {
   "cell_type": "markdown",
   "metadata": {},
   "source": [
    "Simple program to Generate QRcode"
   ]
  },
  {
   "cell_type": "code",
   "execution_count": 2,
   "metadata": {},
   "outputs": [],
   "source": [
    "# Import QRCode from pyqrcode\n",
    "\n",
    "import pyqrcode\n",
    "import png\n",
    "from pyqrcode import QRCode\n",
    "\n",
    "\n",
    "# String which represents the QR code\n",
    "s = \"https://github.com/Gouravspopale\"\n",
    "\n",
    "# Generate QR code\n",
    "url = pyqrcode.create(s)\n",
    "\n",
    "# Create and save the svg file naming \"myqr.svg\"\n",
    "url.svg(\"myqr.svg\", scale = 8)\n",
    "\n",
    "# Create and save the png file naming \"myqr.png\"\n",
    "url.png('myqr.png', scale = 6)\n"
   ]
  }
 ],
 "metadata": {
  "kernelspec": {
   "display_name": "base",
   "language": "python",
   "name": "python3"
  },
  "language_info": {
   "codemirror_mode": {
    "name": "ipython",
    "version": 3
   },
   "file_extension": ".py",
   "mimetype": "text/x-python",
   "name": "python",
   "nbconvert_exporter": "python",
   "pygments_lexer": "ipython3",
   "version": "3.11.4"
  },
  "orig_nbformat": 4
 },
 "nbformat": 4,
 "nbformat_minor": 2
}
