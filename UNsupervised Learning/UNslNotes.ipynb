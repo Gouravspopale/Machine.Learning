{
 "cells": [
  {
   "cell_type": "markdown",
   "metadata": {},
   "source": [
    "# UNsupervised learning"
   ]
  },
  {
   "cell_type": "markdown",
   "metadata": {},
   "source": [
    "Define\n",
    "\n",
    "Unsupervised learning, also known as unsupervised machine learning, uses machine learning algorithms to analyze and cluster unlabeled datasets. These algorithms discover hidden patterns or data groupings without the need for human intervention.\n",
    "\n",
    "why we use\n",
    "\n",
    "Unsupervised learning is used to find patterns and structures in data without labeled outputs, making it suitable for tasks like clustering and dimensionality reduction where the goal is to discover hidden relationships or group similar data points.\n",
    "\n",
    "Important\n",
    "\n",
    "Unsupervised learning is important because it uncovers hidden insights in data, aids in data exploration, and helps in identifying patterns or groups without needing labeled examples, enabling discoveries and better data understanding.\n",
    "\n",
    "\n"
   ]
  },
  {
   "cell_type": "markdown",
   "metadata": {},
   "source": [
    "# Types of UNsl\n",
    "\n",
    "We can think of unsupervised learning problems as being divided into two categories: clustering and association rules."
   ]
  }
 ],
 "metadata": {
  "language_info": {
   "name": "python"
  },
  "orig_nbformat": 4
 },
 "nbformat": 4,
 "nbformat_minor": 2
}
